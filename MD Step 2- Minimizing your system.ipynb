{
 "cells": [
  {
   "cell_type": "markdown",
   "metadata": {},
   "source": [
    "### Molecular Dynamics Steps\n",
    "##### Step 1: Prepare \n",
    "##### <span style=\"color:blue\">Step 2: Relax/minimize </span>\n",
    "##### Step 3: Heat/Equilibrate\n",
    "##### Step 4: Production"
   ]
  },
  {
   "cell_type": "markdown",
   "metadata": {},
   "source": [
    "# Minimize System\n",
    "###### We must minimize our system such that we are starting our simulations in a local energy minimum. The crystal structure probably has some structural artifacts as a result of the procedure. We don't care for that. It is possible that if you start a simulation from the crystal structure your system could immediately blow up due to extreme forceson any one atom, causing the atoms to move an unreasonable amount in a single timestep. Thus, there are minimization algorithms we appy to the system (such as steepest descent). Minimizations are typically done in two steps: 1) water minimization, to allow the solvent to relax around your solute, and 2) system minimization, where you allow the solute to relax. "
   ]
  },
  {
   "cell_type": "markdown",
   "metadata": {},
   "source": [
    "### min.1.in"
   ]
  },
  {
   "cell_type": "markdown",
   "metadata": {},
   "source": [
    "General minimization protocol <br />\n",
    " &cntrl <br />\n",
    "  imin=1, #flag to start minimization procedure, perform single point energy calc <br />\n",
    "  ntx=1, #read positions, but no initial velocity info <br />\n",
    "  irest=0, #not restarting from a previous point <br />\n",
    "  ntpr=100, #print MD progress every 100 steps <br />\n",
    "  ntwx=100, #write out coordinates every 100 steps <br />\n",
    "  ioutfm=1,#format of the output file (trajectory) with coordinate and velocity info. 1 is the flag for a binary  <br /> \n",
    "  NetCDF traj file (it's smaller,has higher precision, and faster to work with.  <br />\n",
    "  ntb=1, #periodic boundary conditions are imposed for constant volume <br />\n",
    "  iwrap=1, <br />\n",
    "  maxcyc=10000, <br />\n",
    "  cut=12.0, <br />\n",
    "  ntr=1, #flag for restraining certain atoms <br />\n",
    "  restraint_wt=75, <br />\n",
    "  restraintmask=\":1-454\", <br />\n",
    " /"
   ]
  },
  {
   "cell_type": "markdown",
   "metadata": {},
   "source": [
    "### min.2.in"
   ]
  },
  {
   "cell_type": "markdown",
   "metadata": {},
   "source": [
    "General minimization protocol  <br />\n",
    " &cntrl <br />\n",
    "  imin=1, <br />\n",
    "  ntx=1, <br />\n",
    "  irest=0, <br />\n",
    "  ntpr=100, <br />\n",
    "  ntwx=100, <br />\n",
    "  ioutfm=1, <br />\n",
    "  ntb=1, <br />\n",
    "  iwrap=1, <br />\n",
    "  maxcyc=10000, <br />\n",
    "  cut=12.0, <br />\n",
    " /"
   ]
  },
  {
   "cell_type": "markdown",
   "metadata": {},
   "source": [
    "To run: \n",
    "\n",
    "AMBERHOME/bin/pmemd.cuda -O -i ../min.1.in -o igps_wt_apo.w_ions_solv.min.1.out -r igps_wt_apo.w_ions_solv.min.1.rst -x igps_wt_apo.w_ions_solv.min.1.mdcrd -c ../igps_wt_apo.w_ions_solv.rst7 -p ../igps_wt_apo.w_ions_solv.prmtop -ref ../igps_wt_apo.w_ions_solv.rst7 -inf igps_wt_apo.w_ions_solv.min.1.mdinfo\n",
    "\n",
    " $AMBERHOME/bin/pmemd.cuda -O -i ../min.2.in -o igps_wt_apo.w_ions_solv.min.2.out -r igps_wt_apo.w_ions_solv.min.2.rst -x igps_wt_apo.w_ions_solv.min.2.mdcrd -c ../minimization.1/igps_wt_apo.w_ions_solv.min.1.rst -p ../igps_wt_apo.w_ions_solv.prmtop -inf igps_wt_apo.w_ions_solv.min.2.mdinfo\n"
   ]
  },
  {
   "cell_type": "code",
   "execution_count": null,
   "metadata": {},
   "outputs": [],
   "source": []
  }
 ],
 "metadata": {
  "kernelspec": {
   "display_name": "Python 3",
   "language": "python",
   "name": "python3"
  },
  "language_info": {
   "codemirror_mode": {
    "name": "ipython",
    "version": 3
   },
   "file_extension": ".py",
   "mimetype": "text/x-python",
   "name": "python",
   "nbconvert_exporter": "python",
   "pygments_lexer": "ipython3",
   "version": "3.7.6"
  }
 },
 "nbformat": 4,
 "nbformat_minor": 4
}

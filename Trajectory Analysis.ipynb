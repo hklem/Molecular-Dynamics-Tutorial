{
 "cells": [
  {
   "cell_type": "markdown",
   "metadata": {},
   "source": [
    "# Analyzing Trajectory"
   ]
  },
  {
   "cell_type": "markdown",
   "metadata": {},
   "source": [
    "### Running an MD simulation is meaningless without meaningful analyses. There exist MANY packages that automate certain measurements of trajectory, but you will find often that you will need to write your own script to cater exactly to what you desire to measure. "
   ]
  },
  {
   "cell_type": "markdown",
   "metadata": {},
   "source": [
    "## Below is what I have personally found to work best for me in terms of visualizing my system:"
   ]
  },
  {
   "cell_type": "markdown",
   "metadata": {},
   "source": [
    "### Step 1: Edit your trajectory files to prepare for visualization"
   ]
  },
  {
   "cell_type": "markdown",
   "metadata": {},
   "source": [
    "ioutfm = 1 flag tells AMBER to write the trajetory in the format of NetCDF (binary, with the typical .nc extension), but some visualization softwares can't read this format (like PyMol, for example) or VMD if you have a newer MacBook Pro that required the 64-bit updated VMD package- I think there may be a bug in their NetCDF plug in, but if you're using an older version it will probably work). \n",
    "\n",
    "What I usually do is convert my trajectory into a .dcd filetype. It is still binary, but different format. AMBER doesn't actually know how to immediately write trajectory as a .dcd, but if it did I would probably have it do that immediately instead of writing it as a .nc in the first place. Oh well. \n",
    "\n",
    "To convert a trajectory file into a .dcd: "
   ]
  },
  {
   "cell_type": "raw",
   "metadata": {},
   "source": [
    "cpptraj \n",
    "\n",
    "> parm $NAME.prmtop #load in parameter file\n",
    "> trajin $NAME.nc #load in the trajectory file you want to convert\n",
    "> strip :WAT, :Na+, :Cl- #You might want to do this is you have a large sytem, this will make the file size a lot more reasonable and easier to transfer, and unless you're measure something about the waters/ions then you don't need to keep their coordinates during analyses. In some cases you might keep waters that are within a certain distances of your protein atoms, or around a specific area. There are ways to specify that in CPPTRAJ.\n",
    "> autoimage anchor :1-454 #SUPER important! This will fix any strange visual effects arising from periodic boundary conditions, like bond wrapping. The anchor tells the command what components should be held fixed in position, and orient mobile molecules (like waters and ions) around that position. I chose all the residues of my protein, to ensure the whole protein is centered. If you don't give an anchor I think the default is the first atom or residue in the file, and this can still lead to visualization artifacts if not all your residues are bonded together- so like if you have a dimer! You also need to be aware that it takes the position of your anchor in the first frame... so If your molecule is centered in that frame then the rest of the trajectory will not be cenered in reference to the box. This works fine if you sequentially do this to all your trajectory, starting with traj1 which probably hasn't had the chance to drift much... but if you are just looking at one trajectory you may want to do an alignment (see below).\n",
    "> trajout $NAME_stripped.dcd #this tells CPPTRAJ you want your traj converted to a dcd, I always add 'stripped' if I've removed atoms\n",
    "> go\n",
    "# now cpptraj will begin the conversion, it may take a few seconds, it should show a progress bar\n",
    "> exit\n",
    "\n",
    "Now you should have a new file for your stripped .dcd file. "
   ]
  },
  {
   "cell_type": "markdown",
   "metadata": {},
   "source": [
    "##### If you need to align your structure throughout the trajectory you can also do that with cpptraj:"
   ]
  },
  {
   "cell_type": "raw",
   "metadata": {},
   "source": [
    "cpptraj \n",
    "\n",
    "> parm $NAME.prmtop #load in parameter file\n",
    "> trajin $NAME.nc #load in the trajectory file you want to convert\n",
    "> strip :WAT, :Na+, :Cl- #You might want to do this is you have a large sytem, this will make the file size a lot more reasonable and easier to transfer, and unless you're measure something about the waters/ions then you don't need to keep their coordinates during analyses. In some cases you might keep waters that are within a certain distances of your protein atoms, or around a specific area. There are ways to specify that in CPPTRAJ.\n",
    "> \n",
    "\n",
    "\n",
    "\n",
    "\n",
    "\n",
    "> trajout $NAME_stripped.dcd #this tells CPPTRAJ you want your traj converted to a dcd, I always add 'stripped' if I've removed atoms\n",
    "> go\n",
    "# now cpptraj will begin the conversion, it may take a few seconds, it should show a progress bar\n",
    "> exit"
   ]
  },
  {
   "cell_type": "markdown",
   "metadata": {},
   "source": [
    "### Step 2: Visualize!"
   ]
  },
  {
   "cell_type": "markdown",
   "metadata": {},
   "source": [
    "#### For PyMol:"
   ]
  },
  {
   "cell_type": "code",
   "execution_count": null,
   "metadata": {},
   "outputs": [],
   "source": []
  }
 ],
 "metadata": {
  "kernelspec": {
   "display_name": "Python 3",
   "language": "python",
   "name": "python3"
  },
  "language_info": {
   "codemirror_mode": {
    "name": "ipython",
    "version": 3
   },
   "file_extension": ".py",
   "mimetype": "text/x-python",
   "name": "python",
   "nbconvert_exporter": "python",
   "pygments_lexer": "ipython3",
   "version": "3.7.6"
  }
 },
 "nbformat": 4,
 "nbformat_minor": 4
}

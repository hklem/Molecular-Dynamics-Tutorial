{
 "cells": [
  {
   "cell_type": "markdown",
   "metadata": {},
   "source": [
    "### Molecular Dynamics Steps\n",
    "##### Step 1: Prepare \n",
    "##### Step 2: Relax/minimize\n",
    "##### <span style=\"color:blue\">Step 3: Heat/Equilibrate </span>\n",
    "##### Step 4: Production"
   ]
  },
  {
   "cell_type": "markdown",
   "metadata": {},
   "source": [
    "# Heat/equilibrate System\n",
    "###### Now, we must invest some simulation time into unbiasing our system, and getting it to the right thermodynamics properties, such as a particular temperature. \n",
    "\n",
    "##### How do you know if your system is equilibrated? Eh.. you don't ever know... but you can convince yourself it probably is by evaluated properties. For example, if you have an NVT system you can plot volume as a function of timestep and ensure it is fluctuating around the same value with minimal drift. Another common metric, especially for biomolecules, is to examine the RMSD of the residues as a funciton of time. "
   ]
  },
  {
   "cell_type": "markdown",
   "metadata": {},
   "source": [
    "### heating.in"
   ]
  },
  {
   "cell_type": "markdown",
   "metadata": {},
   "source": [
    "Heating from 25 to 303K; NVT for 1 ns; <br />\n",
    " &cntrl <br />\n",
    "  imin=0, <br />\n",
    "  ntx=1, <br />\n",
    "  irest=0, <br />\n",
    "  ntxo=2, <br />\n",
    "  ntpr=2500, #print MD progress every 2500 steps <br />\n",
    "  ntwr=50000, #restart file written every 50000 steps <br />\n",
    "  iwrap=1, <br />\n",
    "  ntwx=2500, #write out coordinates every 2500 steps <br />\n",
    "  ioutfm=1, <br />\n",
    "  nstlim=500000, #number of MD steps  <br />\n",
    "  dt=0.002, #timestep in picoseconds <br />\n",
    "  ntt=3, #thermostat. 3=langevin dynamics flag <br />\n",
    "  tempi=25., <br />\n",
    "  temp0=303.0, <br />\n",
    "  ig=-1, <br />\n",
    "  gamma_ln=2 #collision frequency in ps^(-1), variable in Langevin dynamics algorithm <br />\n",
    "  ntc=2, <br />\n",
    "  ntf=2, <br />\n",
    "  ntb=1, <br />\n",
    "  cut=12.0, <br /> \n",
    "  ntr=1, <br />\n",
    "  restraint_wt=1, <br />\n",
    "  restraintmask=\":1-454\", <br />\n",
    "  nmropt=1, <br />\n",
    " / <br />\n",
    "&wt type='TEMP0', istep1=0,istep2=500000, <br />\n",
    "value1=25.,value2=303. <br />\n",
    "/ <br />\n",
    "&wt type='END' <br />\n",
    "/ <br />"
   ]
  },
  {
   "cell_type": "markdown",
   "metadata": {},
   "source": [
    "To run: \n",
    "\n",
    "AMBERHOME/bin/pmemd.cuda -O -i ../heating.in -o igps_wt_apo.w_ions_solv.heating.out -r igps_wt_apo.w_ions_solv.heating.rst -x igps_wt_apo.w_ions_solv.heating.mdcrd -c ../minimization.2/igps_wt_apo.w_ions_solv.min.2.rst -p ../igps_wt_apo.w_ions_solv.prmtop -inf igps_wt_apo.w_ions_solv.heating.mdinfo -ref ../minimization.2/igps_wt_apo.w_ions_solv.min.2.rst"
   ]
  },
  {
   "cell_type": "markdown",
   "metadata": {},
   "source": [
    "### equilib.in"
   ]
  },
  {
   "cell_type": "markdown",
   "metadata": {},
   "source": [
    "Equilib NVT with constraints for 4 ns; <br />\n",
    " &cntrl <br />\n",
    "  imin=0, <br />\n",
    "  ntx=5, <br />\n",
    "  irest=1, <br />\n",
    "  ntxo=2, <br />\n",
    "  ntpr=2500, <br />\n",
    "  ntwr=50000, <br />\n",
    "  iwrap=1, <br />\n",
    "  ntwx=2500,  <br />\n",
    "  ioutfm=1, <br />\n",
    "  nstlim=2000000, <br />\n",
    "  dt=0.002, <br />\n",
    "  ntt=3, <br />\n",
    "  temp0=303.0, <br />\n",
    "  ig=-1, <br />\n",
    "  gamma_ln=2, <br />\n",
    "  ntc=2, <br />\n",
    "  ntf=2, <br />\n",
    "  ntb=1, <br />\n",
    "  cut=12.0, <br />\n",
    "  ntr=1, <br />\n",
    "  restraint_wt=1, <br />\n",
    "  restraintmask=\":1-454\", <br />\n",
    " / <br />"
   ]
  },
  {
   "cell_type": "markdown",
   "metadata": {},
   "source": [
    "To run:\n",
    "\n",
    "AMBERHOME/bin/pmemd.cuda -O -i -O -i ../equilib.in -o igps_wt_apo.w_ions_solv.equilib.out -r igps_wt_apo.w_ions_solv.equilib.rst -x igps_wt_apo.w_ions_solv.equilib.mdcrd -c ../heating/igps_wt_apo.w_ions_solv.heating.rst -ref ../heating/igps_wt_apo.w_ions_solv.heating.rst -p ../igps_wt_apo.w_ions_solv.prmtop -inf igps_wt_apo.w_ions_solv.equilib.mdinfo\n",
    "\n"
   ]
  },
  {
   "cell_type": "code",
   "execution_count": null,
   "metadata": {},
   "outputs": [],
   "source": []
  }
 ],
 "metadata": {
  "kernelspec": {
   "display_name": "Python 3",
   "language": "python",
   "name": "python3"
  },
  "language_info": {
   "codemirror_mode": {
    "name": "ipython",
    "version": 3
   },
   "file_extension": ".py",
   "mimetype": "text/x-python",
   "name": "python",
   "nbconvert_exporter": "python",
   "pygments_lexer": "ipython3",
   "version": "3.7.6"
  }
 },
 "nbformat": 4,
 "nbformat_minor": 4
}
